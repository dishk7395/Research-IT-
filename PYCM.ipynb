{
 "cells": [
  {
   "cell_type": "code",
   "execution_count": 4,
   "metadata": {},
   "outputs": [],
   "source": [
    "from sklearn import datasets\n",
    "from sklearn.model_selection import train_test_split\n",
    "from pycm import ConfusionMatrix\n",
    "from sklearn.datasets import fetch_openml\n",
    "lymph = fetch_openml(name='lymph', version=1)\n",
    "X = lymph.data\n",
    "y = lymph.target\n",
    "X_train, X_test, y_train, y_test = train_test_split(X, y, random_state=0)"
   ]
  },
  {
   "cell_type": "code",
   "execution_count": 5,
   "metadata": {},
   "outputs": [],
   "source": [
    "from sklearn import svm\n",
    "classifier_1 = svm.SVC(kernel='linear', C=0.01)"
   ]
  },
  {
   "cell_type": "code",
   "execution_count": 6,
   "metadata": {},
   "outputs": [],
   "source": [
    "y_pred_1 = classifier_1.fit(X_train, y_train).predict(X_test)"
   ]
  },
  {
   "cell_type": "code",
   "execution_count": 7,
   "metadata": {},
   "outputs": [
    {
     "name": "stdout",
     "output_type": "stream",
     "text": [
      "Predict            fibrosis           malign_lymph       metastases         \n",
      "Actual\n",
      "fibrosis           0                  1                  1                  \n",
      "\n",
      "malign_lymph       0                  11                 8                  \n",
      "\n",
      "metastases         0                  0                  16                 \n",
      "\n",
      "\n"
     ]
    }
   ],
   "source": [
    "cm1=ConfusionMatrix(y_test,y_pred_1)\n",
    "cm1.print_matrix()"
   ]
  },
  {
   "cell_type": "code",
   "execution_count": 13,
   "metadata": {},
   "outputs": [
    {
     "name": "stdout",
     "output_type": "stream",
     "text": [
      "Overall Statistics : \n",
      "\n",
      "ACC Macro                                                         0.81982\n",
      "\n",
      "Class Statistics :\n",
      "\n",
      "Classes                                                           fibrosis         malign_lymph     metastases       \n",
      "AUC(Area under the ROC curve)                                     0.5              0.7617           0.78571          \n",
      "DOR(Diagnostic odds ratio)                                        None             23.375           None             \n",
      "FN(False negative/miss/type 2 error)                              2                8                0                \n",
      "FP(False positive/type 1 error/false alarm)                       0                1                9                \n",
      "MCC(Matthews correlation coefficient)                             None             0.55883          0.60474          \n",
      "NLR(Negative likelihood ratio)                                    1.0              0.44582          0.0              \n",
      "PLR(Positive likelihood ratio)                                    None             10.42105         2.33333          \n",
      "PPV(Precision or positive predictive value)                       None             0.91667          0.64             \n",
      "TN(True negative/correct rejection)                               35               17               12               \n",
      "TNR(Specificity or true negative rate)                            1.0              0.94444          0.57143          \n",
      "TP(True positive/hit)                                             0                11               16               \n",
      "TPR(Sensitivity, recall, hit rate, or true positive rate)         0.0              0.57895          1.0              \n",
      "TPR(Sensitivity, recall, hit rate, or true positive rate)         0.0              0.57895          1.0              \n",
      "\n"
     ]
    }
   ],
   "source": [
    "cm1.stat(overall_param=['ACC Macro'],class_param=[\"AUC\",\"TPR\", 'DOR', 'FN', 'FP', 'TP','TN', 'MCC', 'PLR', 'TPR', 'TNR', 'PPV', 'NLR'])"
   ]
  },
  {
   "cell_type": "code",
   "execution_count": 34,
   "metadata": {},
   "outputs": [],
   "source": [
    "import numpy as np\n",
    "import matplotlib.pyplot as plt\n",
    "import itertools\n",
    "\n",
    "def plot_confusion_matrix(cm1,\n",
    "                          normalize=False,\n",
    "                          title='Confusion matrix',\n",
    "                          cmap=plt.cm.Blues):\n",
    "    \"\"\"\n",
    "    This function modified to plots the ConfusionMatrix object.\n",
    "    Normalization can be applied by setting `normalize=True`.\n",
    "    \n",
    "    \n",
    "    Code Reference : \n",
    "    http://scikit-learn.org/stable/auto_examples/model_selection/plot_confusion_matrix.html\n",
    "    \n",
    "    \"\"\"\n",
    "\n",
    "    plt_cm1 = []\n",
    "    for i in cm1.classes :\n",
    "        row=[]\n",
    "        for j in cm1.classes:\n",
    "            row.append(cm1.table[i][j])\n",
    "        plt_cm1.append(row)\n",
    "    plt_cm1 = np.array(plt_cm1)\n",
    "    if normalize:\n",
    "        plt_cm1 = plt_cm1.astype('float') / plt_cm1.sum(axis=1)[:, np.newaxis]     \n",
    "    plt.imshow(plt_cm1, interpolation='nearest', cmap=cmap)\n",
    "    plt.title(title)\n",
    "    plt.colorbar()\n",
    "    tick_marks = np.arange(len(cm1.classes))\n",
    "    plt.xticks(tick_marks, cm1.classes, rotation=45)\n",
    "    plt.yticks(tick_marks, cm1.classes)\n",
    "\n",
    "    fmt = '.2f' if normalize else 'd'\n",
    "    thresh = plt_cm1.max() / 2.\n",
    "    for i, j in itertools.product(range(plt_cm1.shape[0]), range(plt_cm1.shape[1])):\n",
    "        plt.text(j, i, format(plt_cm1[i, j], fmt),\n",
    "                 horizontalalignment=\"center\",\n",
    "                 color=\"white\" if plt_cm1[i, j] > thresh else \"black\")\n",
    "\n",
    "    plt.tight_layout()\n",
    "    plt.ylabel('Actual')\n",
    "    plt.xlabel('Predict')"
   ]
  },
  {
   "cell_type": "code",
   "execution_count": 35,
   "metadata": {},
   "outputs": [
    {
     "data": {
      "text/plain": [
       "<AxesSubplot:title={'center':'Confusion Matrix'}, xlabel='Predicted Classes', ylabel='Actual Classes'>"
      ]
     },
     "execution_count": 35,
     "metadata": {},
     "output_type": "execute_result"
    },
    {
     "data": {
      "image/png": "[encoded data removed]",
      "text/plain": [
       "<Figure size 432x288 with 2 Axes>"
      ]
     },
     "metadata": {
      "needs_background": "light"
     },
     "output_type": "display_data"
    }
   ],
   "source": [
    "cm1.plot(cmap=plt.cm.Blues,number_label=True,one_vs_all=True)"
   ]
  },
  {
   "cell_type": "markdown",
   "metadata": {},
   "source": [
    "### Confidence Interval "
   ]
  },
  {
   "cell_type": "markdown",
   "metadata": {},
   "source": [
    "We need to estimate the “margin of error” or to use the proper term, confidence interval, on our observation. A confidence interval tells us that at a given level of certainty, if our scientific model is correct, the true value in the population will likely be in the range identified; the larger the confidence interval the less certain the observation will be. There are several different approaches to calculating confidence intervals"
   ]
  },
  {
   "cell_type": "code",
   "execution_count": 36,
   "metadata": {},
   "outputs": [],
   "source": [
    "import pycm\n",
    "\n",
    "def plot_ci(cm,param,alpha=0.05,method=\"normal-approx\"):\n",
    "    \"\"\"\n",
    "    Plot two-sided confidence interval.\n",
    "    \n",
    "    :param cm: ConfusionMatrix\n",
    "    :type cm : pycm.ConfusionMatrix object\n",
    "    :param param: input parameter\n",
    "    :type param: str\n",
    "    :param alpha: type I error\n",
    "    :type alpha: float\n",
    "    :param method: binomial confidence intervals method\n",
    "    :type method: str\n",
    "    :return: None\n",
    "    \"\"\"\n",
    "    conf_str = str(round(100*(1-alpha)))\n",
    "    print(conf_str+\"%CI :\")\n",
    "    if param in cm.class_stat.keys():\n",
    "        mean = []\n",
    "        error = [[],[]]\n",
    "        data = cm.CI(param,alpha=alpha,binom_method=method)\n",
    "        class_names_str = list(map(str,(cm.classes)))\n",
    "        for class_index, class_name in enumerate(cm.classes):\n",
    "            print(str(class_name)+\" : \"+str(data[class_name][1]))\n",
    "            mean.append(cm.class_stat[param][class_name])\n",
    "            error[0].append(cm.class_stat[param][class_name]-data[class_name][1][0])\n",
    "            error[1].append(data[class_name][1][1]-cm.class_stat[param][class_name])\n",
    "        fig = plt.figure()\n",
    "        plt.errorbar(mean,class_names_str,xerr = error,fmt='o',capsize=5,linestyle=\"dotted\")\n",
    "        plt.ylabel('Class')\n",
    "        fig.suptitle(\"Param :\"+param + \", Alpha:\"+str(alpha), fontsize=16)\n",
    "        for index,value in enumerate(mean):\n",
    "            down_point = data[cm.classes[index]][1][0]\n",
    "            up_point = data[cm.classes[index]][1][1]\n",
    "            plt.text(value, class_names_str[index], \"%f\" %value, ha=\"center\",va=\"top\",color=\"red\")\n",
    "            plt.text(down_point, class_names_str[index], \"%f\" %down_point, ha=\"right\",va=\"bottom\",color=\"red\")\n",
    "            plt.text(up_point , class_names_str[index], \"%f\" %up_point, ha=\"left\",va=\"bottom\",color=\"red\")\n",
    "    else:\n",
    "        mean = cm.overall_stat[param]\n",
    "        data = cm.CI(param,alpha=alpha,binom_method=method)\n",
    "        print(data[1])\n",
    "        error = [[],[]]\n",
    "        up_point = data[1][1]\n",
    "        down_point = data[1][0]\n",
    "        error[0] = [cm.overall_stat[param] - down_point]\n",
    "        error[1] = [up_point - cm.overall_stat[param]]\n",
    "        fig = plt.figure()\n",
    "        plt.errorbar(mean,[param],xerr = error,fmt='o',capsize=5,linestyle=\"dotted\")\n",
    "        fig.suptitle(\"Alpha:\"+str(alpha), fontsize=16)\n",
    "        plt.text(mean, param, \"%f\" %mean, ha=\"center\",va=\"top\",color=\"red\")\n",
    "        plt.text(down_point, param, \"%f\" %down_point, ha=\"right\",va=\"bottom\",color=\"red\")\n",
    "        plt.text(up_point, param, \"%f\" %up_point, ha=\"left\",va=\"bottom\",color=\"red\")\n",
    "    \n",
    "        \n",
    "    plt.show()\n",
    "            "
   ]
  },
  {
   "cell_type": "code",
   "execution_count": 37,
   "metadata": {},
   "outputs": [
    {
     "name": "stdout",
     "output_type": "stream",
     "text": [
      "95%CI :\n",
      "fibrosis : (0.0, 0.0)\n",
      "malign_lymph : (0.3569401957423196, 0.8009545410997857)\n",
      "metastases : (1.0, 1.0)\n"
     ]
    },
    {
     "data": {
      "image/png": "[encoded data removed]",
      "text/plain": [
       "<Figure size 432x288 with 1 Axes>"
      ]
     },
     "metadata": {
      "needs_background": "light"
     },
     "output_type": "display_data"
    }
   ],
   "source": [
    "plot_ci(cm1,param=\"TPR\",method=\"normal-approx\")"
   ]
  },
  {
   "cell_type": "code",
   "execution_count": 38,
   "metadata": {},
   "outputs": [
    {
     "name": "stdout",
     "output_type": "stream",
     "text": [
      "95%CI :\n",
      "fibrosis : (0.0, 0.0)\n",
      "malign_lymph : (-0.050265423276822124, 0.16137653438793328)\n",
      "metastases : (0.21691132368626137, 0.6402315334565958)\n"
     ]
    },
    {
     "data": {
      "image/png": "[encoded data removed]",
      "text/plain": [
       "<Figure size 432x288 with 1 Axes>"
      ]
     },
     "metadata": {
      "needs_background": "light"
     },
     "output_type": "display_data"
    }
   ],
   "source": [
    "plot_ci(cm1,param=\"FPR\",method=\"normal-approx\")"
   ]
  },
  {
   "cell_type": "code",
   "execution_count": null,
   "metadata": {},
   "outputs": [],
   "source": []
  }
 ],
 "metadata": {
  "kernelspec": {
   "display_name": "Python 3",
   "language": "python",
   "name": "python3"
  },
  "language_info": {
   "codemirror_mode": {
    "name": "ipython",
    "version": 3
   },
   "file_extension": ".py",
   "mimetype": "text/x-python",
   "name": "python",
   "nbconvert_exporter": "python",
   "pygments_lexer": "ipython3",
   "version": "3.8.5"
  }
 },
 "nbformat": 4,
 "nbformat_minor": 4
}
